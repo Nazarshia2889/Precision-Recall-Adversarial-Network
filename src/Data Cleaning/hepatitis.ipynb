{
 "metadata": {
  "language_info": {
   "codemirror_mode": {
    "name": "ipython",
    "version": 3
   },
   "file_extension": ".py",
   "mimetype": "text/x-python",
   "name": "python",
   "nbconvert_exporter": "python",
   "pygments_lexer": "ipython3",
   "version": "3.8.5-final"
  },
  "orig_nbformat": 2,
  "kernelspec": {
   "name": "python3",
   "display_name": "Python 3.8.5 64-bit ('base': conda)",
   "metadata": {
    "interpreter": {
     "hash": "f2a20e5a9393f63df623e306b5bc0e1daef227858e0ced304b5ee5fe69dcdad7"
    }
   }
  }
 },
 "nbformat": 4,
 "nbformat_minor": 2,
 "cells": [
  {
   "cell_type": "code",
   "execution_count": 1,
   "metadata": {},
   "outputs": [],
   "source": [
    "import pandas as pd\n",
    "import numpy as np \n",
    "import matplotlib.pyplot as plt\n",
    "import seaborn as sns"
   ]
  },
  {
   "cell_type": "code",
   "execution_count": 2,
   "metadata": {},
   "outputs": [],
   "source": [
    "columnNames = ['Class','AGE','SEX','STEROID','ANTIVIRALS','FATIGUE','MALAISE','ANOREXIA','LIVER BIG','LIVER FIRM','SPLEEN PALPABLE','SPIDERS','ASCITES','VARICES','BILIRUBIN','ALK PHOSPHATE','SGOT','ALBUMIN','PROTIME','HISTOLOGY']\n",
    "\n",
    "df = pd.read_csv('../data/hepatitis.data', names = columnNames)"
   ]
  },
  {
   "cell_type": "code",
   "execution_count": 3,
   "metadata": {},
   "outputs": [
    {
     "output_type": "execute_result",
     "data": {
      "text/plain": [
       "   Class  AGE  SEX STEROID  ANTIVIRALS FATIGUE MALAISE ANOREXIA LIVER BIG  \\\n",
       "0      2   30    2       1           2       2       2        2         1   \n",
       "1      2   50    1       1           2       1       2        2         1   \n",
       "2      2   78    1       2           2       1       2        2         2   \n",
       "3      2   31    1       ?           1       2       2        2         2   \n",
       "4      2   34    1       2           2       2       2        2         2   \n",
       "\n",
       "  LIVER FIRM SPLEEN PALPABLE SPIDERS ASCITES VARICES BILIRUBIN ALK PHOSPHATE  \\\n",
       "0          2               2       2       2       2      1.00            85   \n",
       "1          2               2       2       2       2      0.90           135   \n",
       "2          2               2       2       2       2      0.70            96   \n",
       "3          2               2       2       2       2      0.70            46   \n",
       "4          2               2       2       2       2      1.00             ?   \n",
       "\n",
       "  SGOT ALBUMIN PROTIME  HISTOLOGY  \n",
       "0   18     4.0       ?          1  \n",
       "1   42     3.5       ?          1  \n",
       "2   32     4.0       ?          1  \n",
       "3   52     4.0      80          1  \n",
       "4  200     4.0       ?          1  "
      ],
      "text/html": "<div>\n<style scoped>\n    .dataframe tbody tr th:only-of-type {\n        vertical-align: middle;\n    }\n\n    .dataframe tbody tr th {\n        vertical-align: top;\n    }\n\n    .dataframe thead th {\n        text-align: right;\n    }\n</style>\n<table border=\"1\" class=\"dataframe\">\n  <thead>\n    <tr style=\"text-align: right;\">\n      <th></th>\n      <th>Class</th>\n      <th>AGE</th>\n      <th>SEX</th>\n      <th>STEROID</th>\n      <th>ANTIVIRALS</th>\n      <th>FATIGUE</th>\n      <th>MALAISE</th>\n      <th>ANOREXIA</th>\n      <th>LIVER BIG</th>\n      <th>LIVER FIRM</th>\n      <th>SPLEEN PALPABLE</th>\n      <th>SPIDERS</th>\n      <th>ASCITES</th>\n      <th>VARICES</th>\n      <th>BILIRUBIN</th>\n      <th>ALK PHOSPHATE</th>\n      <th>SGOT</th>\n      <th>ALBUMIN</th>\n      <th>PROTIME</th>\n      <th>HISTOLOGY</th>\n    </tr>\n  </thead>\n  <tbody>\n    <tr>\n      <th>0</th>\n      <td>2</td>\n      <td>30</td>\n      <td>2</td>\n      <td>1</td>\n      <td>2</td>\n      <td>2</td>\n      <td>2</td>\n      <td>2</td>\n      <td>1</td>\n      <td>2</td>\n      <td>2</td>\n      <td>2</td>\n      <td>2</td>\n      <td>2</td>\n      <td>1.00</td>\n      <td>85</td>\n      <td>18</td>\n      <td>4.0</td>\n      <td>?</td>\n      <td>1</td>\n    </tr>\n    <tr>\n      <th>1</th>\n      <td>2</td>\n      <td>50</td>\n      <td>1</td>\n      <td>1</td>\n      <td>2</td>\n      <td>1</td>\n      <td>2</td>\n      <td>2</td>\n      <td>1</td>\n      <td>2</td>\n      <td>2</td>\n      <td>2</td>\n      <td>2</td>\n      <td>2</td>\n      <td>0.90</td>\n      <td>135</td>\n      <td>42</td>\n      <td>3.5</td>\n      <td>?</td>\n      <td>1</td>\n    </tr>\n    <tr>\n      <th>2</th>\n      <td>2</td>\n      <td>78</td>\n      <td>1</td>\n      <td>2</td>\n      <td>2</td>\n      <td>1</td>\n      <td>2</td>\n      <td>2</td>\n      <td>2</td>\n      <td>2</td>\n      <td>2</td>\n      <td>2</td>\n      <td>2</td>\n      <td>2</td>\n      <td>0.70</td>\n      <td>96</td>\n      <td>32</td>\n      <td>4.0</td>\n      <td>?</td>\n      <td>1</td>\n    </tr>\n    <tr>\n      <th>3</th>\n      <td>2</td>\n      <td>31</td>\n      <td>1</td>\n      <td>?</td>\n      <td>1</td>\n      <td>2</td>\n      <td>2</td>\n      <td>2</td>\n      <td>2</td>\n      <td>2</td>\n      <td>2</td>\n      <td>2</td>\n      <td>2</td>\n      <td>2</td>\n      <td>0.70</td>\n      <td>46</td>\n      <td>52</td>\n      <td>4.0</td>\n      <td>80</td>\n      <td>1</td>\n    </tr>\n    <tr>\n      <th>4</th>\n      <td>2</td>\n      <td>34</td>\n      <td>1</td>\n      <td>2</td>\n      <td>2</td>\n      <td>2</td>\n      <td>2</td>\n      <td>2</td>\n      <td>2</td>\n      <td>2</td>\n      <td>2</td>\n      <td>2</td>\n      <td>2</td>\n      <td>2</td>\n      <td>1.00</td>\n      <td>?</td>\n      <td>200</td>\n      <td>4.0</td>\n      <td>?</td>\n      <td>1</td>\n    </tr>\n  </tbody>\n</table>\n</div>"
     },
     "metadata": {},
     "execution_count": 3
    }
   ],
   "source": [
    "df.head()"
   ]
  },
  {
   "cell_type": "code",
   "execution_count": 4,
   "metadata": {},
   "outputs": [],
   "source": [
    "df.replace(\"?\", np.nan, inplace=True)"
   ]
  },
  {
   "cell_type": "code",
   "execution_count": 5,
   "metadata": {},
   "outputs": [
    {
     "output_type": "execute_result",
     "data": {
      "text/plain": [
       "Class               0\n",
       "AGE                 0\n",
       "SEX                 0\n",
       "STEROID             1\n",
       "ANTIVIRALS          0\n",
       "FATIGUE             1\n",
       "MALAISE             1\n",
       "ANOREXIA            1\n",
       "LIVER BIG          10\n",
       "LIVER FIRM         11\n",
       "SPLEEN PALPABLE     5\n",
       "SPIDERS             5\n",
       "ASCITES             5\n",
       "VARICES             5\n",
       "BILIRUBIN           6\n",
       "ALK PHOSPHATE      29\n",
       "SGOT                4\n",
       "ALBUMIN            16\n",
       "PROTIME            67\n",
       "HISTOLOGY           0\n",
       "dtype: int64"
      ]
     },
     "metadata": {},
     "execution_count": 5
    }
   ],
   "source": [
    "df.isnull().sum()"
   ]
  },
  {
   "cell_type": "code",
   "execution_count": 6,
   "metadata": {},
   "outputs": [
    {
     "output_type": "display_data",
     "data": {
      "text/plain": "<Figure size 432x288 with 1 Axes>",
      "image/svg+xml": "<?xml version=\"1.0\" encoding=\"utf-8\" standalone=\"no\"?>\n<!DOCTYPE svg PUBLIC \"-//W3C//DTD SVG 1.1//EN\"\n  \"http://www.w3.org/Graphics/SVG/1.1/DTD/svg11.dtd\">\n<svg xmlns:xlink=\"http://www.w3.org/1999/xlink\" width=\"392.166094pt\" height=\"280.963594pt\" viewBox=\"0 0 392.166094 280.963594\" xmlns=\"http://www.w3.org/2000/svg\" version=\"1.1\">\n <metadata>\n  <rdf:RDF xmlns:dc=\"http://purl.org/dc/elements/1.1/\" xmlns:cc=\"http://creativecommons.org/ns#\" xmlns:rdf=\"http://www.w3.org/1999/02/22-rdf-syntax-ns#\">\n   <cc:Work>\n    <dc:type rdf:resource=\"http://purl.org/dc/dcmitype/StillImage\"/>\n    <dc:date>2023-01-06T14:57:22.590347</dc:date>\n    <dc:format>image/svg+xml</dc:format>\n    <dc:creator>\n     <cc:Agent>\n      <dc:title>Matplotlib v3.5.1, https://matplotlib.org/</dc:title>\n     </cc:Agent>\n    </dc:creator>\n   </cc:Work>\n  </rdf:RDF>\n </metadata>\n <defs>\n  <style type=\"text/css\">*{stroke-linejoin: round; stroke-linecap: butt}</style>\n </defs>\n <g id=\"figure_1\">\n  <g id=\"patch_1\">\n   <path d=\"M 0 280.963594 \nL 392.166094 280.963594 \nL 392.166094 0 \nL 0 0 \nz\n\" style=\"fill: #ffffff\"/>\n  </g>\n  <g id=\"axes_1\">\n   <g id=\"patch_2\">\n    <path d=\"M 50.166094 239.229375 \nL 384.966094 239.229375 \nL 384.966094 21.789375 \nL 50.166094 21.789375 \nz\n\" style=\"fill: #eaeaf2\"/>\n   </g>\n   <g id=\"matplotlib.axis_1\">\n    <g id=\"xtick_1\">\n     <g id=\"text_1\">\n      <!-- 1 -->\n      <g style=\"fill: #262626\" transform=\"translate(130.807578 256.602969)scale(0.11 -0.11)\">\n       <defs>\n        <path id=\"ArialMT-31\" d=\"M 2384 0 \nL 1822 0 \nL 1822 3584 \nQ 1619 3391 1289 3197 \nQ 959 3003 697 2906 \nL 697 3450 \nQ 1169 3672 1522 3987 \nQ 1875 4303 2022 4600 \nL 2384 4600 \nL 2384 0 \nz\n\" transform=\"scale(0.015625)\"/>\n       </defs>\n       <use xlink:href=\"#ArialMT-31\"/>\n      </g>\n     </g>\n    </g>\n    <g id=\"xtick_2\">\n     <g id=\"text_2\">\n      <!-- 2 -->\n      <g style=\"fill: #262626\" transform=\"translate(298.207578 256.602969)scale(0.11 -0.11)\">\n       <defs>\n        <path id=\"ArialMT-32\" d=\"M 3222 541 \nL 3222 0 \nL 194 0 \nQ 188 203 259 391 \nQ 375 700 629 1000 \nQ 884 1300 1366 1694 \nQ 2113 2306 2375 2664 \nQ 2638 3022 2638 3341 \nQ 2638 3675 2398 3904 \nQ 2159 4134 1775 4134 \nQ 1369 4134 1125 3890 \nQ 881 3647 878 3216 \nL 300 3275 \nQ 359 3922 746 4261 \nQ 1134 4600 1788 4600 \nQ 2447 4600 2831 4234 \nQ 3216 3869 3216 3328 \nQ 3216 3053 3103 2787 \nQ 2991 2522 2730 2228 \nQ 2469 1934 1863 1422 \nQ 1356 997 1212 845 \nQ 1069 694 975 541 \nL 3222 541 \nz\n\" transform=\"scale(0.015625)\"/>\n       </defs>\n       <use xlink:href=\"#ArialMT-32\"/>\n      </g>\n     </g>\n    </g>\n    <g id=\"text_3\">\n     <!-- Classes -->\n     <g style=\"fill: #262626\" transform=\"translate(196.226719 271.378594)scale(0.12 -0.12)\">\n      <defs>\n       <path id=\"ArialMT-43\" d=\"M 3763 1606 \nL 4369 1453 \nQ 4178 706 3683 314 \nQ 3188 -78 2472 -78 \nQ 1731 -78 1267 223 \nQ 803 525 561 1097 \nQ 319 1669 319 2325 \nQ 319 3041 592 3573 \nQ 866 4106 1370 4382 \nQ 1875 4659 2481 4659 \nQ 3169 4659 3637 4309 \nQ 4106 3959 4291 3325 \nL 3694 3184 \nQ 3534 3684 3231 3912 \nQ 2928 4141 2469 4141 \nQ 1941 4141 1586 3887 \nQ 1231 3634 1087 3207 \nQ 944 2781 944 2328 \nQ 944 1744 1114 1308 \nQ 1284 872 1643 656 \nQ 2003 441 2422 441 \nQ 2931 441 3284 734 \nQ 3638 1028 3763 1606 \nz\n\" transform=\"scale(0.015625)\"/>\n       <path id=\"ArialMT-6c\" d=\"M 409 0 \nL 409 4581 \nL 972 4581 \nL 972 0 \nL 409 0 \nz\n\" transform=\"scale(0.015625)\"/>\n       <path id=\"ArialMT-61\" d=\"M 2588 409 \nQ 2275 144 1986 34 \nQ 1697 -75 1366 -75 \nQ 819 -75 525 192 \nQ 231 459 231 875 \nQ 231 1119 342 1320 \nQ 453 1522 633 1644 \nQ 813 1766 1038 1828 \nQ 1203 1872 1538 1913 \nQ 2219 1994 2541 2106 \nQ 2544 2222 2544 2253 \nQ 2544 2597 2384 2738 \nQ 2169 2928 1744 2928 \nQ 1347 2928 1158 2789 \nQ 969 2650 878 2297 \nL 328 2372 \nQ 403 2725 575 2942 \nQ 747 3159 1072 3276 \nQ 1397 3394 1825 3394 \nQ 2250 3394 2515 3294 \nQ 2781 3194 2906 3042 \nQ 3031 2891 3081 2659 \nQ 3109 2516 3109 2141 \nL 3109 1391 \nQ 3109 606 3145 398 \nQ 3181 191 3288 0 \nL 2700 0 \nQ 2613 175 2588 409 \nz\nM 2541 1666 \nQ 2234 1541 1622 1453 \nQ 1275 1403 1131 1340 \nQ 988 1278 909 1158 \nQ 831 1038 831 891 \nQ 831 666 1001 516 \nQ 1172 366 1500 366 \nQ 1825 366 2078 508 \nQ 2331 650 2450 897 \nQ 2541 1088 2541 1459 \nL 2541 1666 \nz\n\" transform=\"scale(0.015625)\"/>\n       <path id=\"ArialMT-73\" d=\"M 197 991 \nL 753 1078 \nQ 800 744 1014 566 \nQ 1228 388 1613 388 \nQ 2000 388 2187 545 \nQ 2375 703 2375 916 \nQ 2375 1106 2209 1216 \nQ 2094 1291 1634 1406 \nQ 1016 1563 777 1677 \nQ 538 1791 414 1992 \nQ 291 2194 291 2438 \nQ 291 2659 392 2848 \nQ 494 3038 669 3163 \nQ 800 3259 1026 3326 \nQ 1253 3394 1513 3394 \nQ 1903 3394 2198 3281 \nQ 2494 3169 2634 2976 \nQ 2775 2784 2828 2463 \nL 2278 2388 \nQ 2241 2644 2061 2787 \nQ 1881 2931 1553 2931 \nQ 1166 2931 1000 2803 \nQ 834 2675 834 2503 \nQ 834 2394 903 2306 \nQ 972 2216 1119 2156 \nQ 1203 2125 1616 2013 \nQ 2213 1853 2448 1751 \nQ 2684 1650 2818 1456 \nQ 2953 1263 2953 975 \nQ 2953 694 2789 445 \nQ 2625 197 2315 61 \nQ 2006 -75 1616 -75 \nQ 969 -75 630 194 \nQ 291 463 197 991 \nz\n\" transform=\"scale(0.015625)\"/>\n       <path id=\"ArialMT-65\" d=\"M 2694 1069 \nL 3275 997 \nQ 3138 488 2766 206 \nQ 2394 -75 1816 -75 \nQ 1088 -75 661 373 \nQ 234 822 234 1631 \nQ 234 2469 665 2931 \nQ 1097 3394 1784 3394 \nQ 2450 3394 2872 2941 \nQ 3294 2488 3294 1666 \nQ 3294 1616 3291 1516 \nL 816 1516 \nQ 847 969 1125 678 \nQ 1403 388 1819 388 \nQ 2128 388 2347 550 \nQ 2566 713 2694 1069 \nz\nM 847 1978 \nL 2700 1978 \nQ 2663 2397 2488 2606 \nQ 2219 2931 1791 2931 \nQ 1403 2931 1139 2672 \nQ 875 2413 847 1978 \nz\n\" transform=\"scale(0.015625)\"/>\n      </defs>\n      <use xlink:href=\"#ArialMT-43\"/>\n      <use xlink:href=\"#ArialMT-6c\" x=\"72.216797\"/>\n      <use xlink:href=\"#ArialMT-61\" x=\"94.433594\"/>\n      <use xlink:href=\"#ArialMT-73\" x=\"150.048828\"/>\n      <use xlink:href=\"#ArialMT-73\" x=\"200.048828\"/>\n      <use xlink:href=\"#ArialMT-65\" x=\"250.048828\"/>\n      <use xlink:href=\"#ArialMT-73\" x=\"305.664062\"/>\n     </g>\n    </g>\n   </g>\n   <g id=\"matplotlib.axis_2\">\n    <g id=\"ytick_1\">\n     <g id=\"line2d_1\">\n      <path d=\"M 50.166094 239.229375 \nL 384.966094 239.229375 \n\" clip-path=\"url(#p44178118e3)\" style=\"fill: none; stroke: #ffffff; stroke-linecap: round\"/>\n     </g>\n     <g id=\"text_4\">\n      <!-- 0 -->\n      <g style=\"fill: #262626\" transform=\"translate(34.549063 243.166172)scale(0.11 -0.11)\">\n       <defs>\n        <path id=\"ArialMT-30\" d=\"M 266 2259 \nQ 266 3072 433 3567 \nQ 600 4063 929 4331 \nQ 1259 4600 1759 4600 \nQ 2128 4600 2406 4451 \nQ 2684 4303 2865 4023 \nQ 3047 3744 3150 3342 \nQ 3253 2941 3253 2259 \nQ 3253 1453 3087 958 \nQ 2922 463 2592 192 \nQ 2263 -78 1759 -78 \nQ 1097 -78 719 397 \nQ 266 969 266 2259 \nz\nM 844 2259 \nQ 844 1131 1108 757 \nQ 1372 384 1759 384 \nQ 2147 384 2411 759 \nQ 2675 1134 2675 2259 \nQ 2675 3391 2411 3762 \nQ 2147 4134 1753 4134 \nQ 1366 4134 1134 3806 \nQ 844 3388 844 2259 \nz\n\" transform=\"scale(0.015625)\"/>\n       </defs>\n       <use xlink:href=\"#ArialMT-30\"/>\n      </g>\n     </g>\n    </g>\n    <g id=\"ytick_2\">\n     <g id=\"line2d_2\">\n      <path d=\"M 50.166094 205.556901 \nL 384.966094 205.556901 \n\" clip-path=\"url(#p44178118e3)\" style=\"fill: none; stroke: #ffffff; stroke-linecap: round\"/>\n     </g>\n     <g id=\"text_5\">\n      <!-- 20 -->\n      <g style=\"fill: #262626\" transform=\"translate(28.432031 209.493698)scale(0.11 -0.11)\">\n       <use xlink:href=\"#ArialMT-32\"/>\n       <use xlink:href=\"#ArialMT-30\" x=\"55.615234\"/>\n      </g>\n     </g>\n    </g>\n    <g id=\"ytick_3\">\n     <g id=\"line2d_3\">\n      <path d=\"M 50.166094 171.884427 \nL 384.966094 171.884427 \n\" clip-path=\"url(#p44178118e3)\" style=\"fill: none; stroke: #ffffff; stroke-linecap: round\"/>\n     </g>\n     <g id=\"text_6\">\n      <!-- 40 -->\n      <g style=\"fill: #262626\" transform=\"translate(28.432031 175.821224)scale(0.11 -0.11)\">\n       <defs>\n        <path id=\"ArialMT-34\" d=\"M 2069 0 \nL 2069 1097 \nL 81 1097 \nL 81 1613 \nL 2172 4581 \nL 2631 4581 \nL 2631 1613 \nL 3250 1613 \nL 3250 1097 \nL 2631 1097 \nL 2631 0 \nL 2069 0 \nz\nM 2069 1613 \nL 2069 3678 \nL 634 1613 \nL 2069 1613 \nz\n\" transform=\"scale(0.015625)\"/>\n       </defs>\n       <use xlink:href=\"#ArialMT-34\"/>\n       <use xlink:href=\"#ArialMT-30\" x=\"55.615234\"/>\n      </g>\n     </g>\n    </g>\n    <g id=\"ytick_4\">\n     <g id=\"line2d_4\">\n      <path d=\"M 50.166094 138.211953 \nL 384.966094 138.211953 \n\" clip-path=\"url(#p44178118e3)\" style=\"fill: none; stroke: #ffffff; stroke-linecap: round\"/>\n     </g>\n     <g id=\"text_7\">\n      <!-- 60 -->\n      <g style=\"fill: #262626\" transform=\"translate(28.432031 142.14875)scale(0.11 -0.11)\">\n       <defs>\n        <path id=\"ArialMT-36\" d=\"M 3184 3459 \nL 2625 3416 \nQ 2550 3747 2413 3897 \nQ 2184 4138 1850 4138 \nQ 1581 4138 1378 3988 \nQ 1113 3794 959 3422 \nQ 806 3050 800 2363 \nQ 1003 2672 1297 2822 \nQ 1591 2972 1913 2972 \nQ 2475 2972 2870 2558 \nQ 3266 2144 3266 1488 \nQ 3266 1056 3080 686 \nQ 2894 316 2569 119 \nQ 2244 -78 1831 -78 \nQ 1128 -78 684 439 \nQ 241 956 241 2144 \nQ 241 3472 731 4075 \nQ 1159 4600 1884 4600 \nQ 2425 4600 2770 4297 \nQ 3116 3994 3184 3459 \nz\nM 888 1484 \nQ 888 1194 1011 928 \nQ 1134 663 1356 523 \nQ 1578 384 1822 384 \nQ 2178 384 2434 671 \nQ 2691 959 2691 1453 \nQ 2691 1928 2437 2201 \nQ 2184 2475 1800 2475 \nQ 1419 2475 1153 2201 \nQ 888 1928 888 1484 \nz\n\" transform=\"scale(0.015625)\"/>\n       </defs>\n       <use xlink:href=\"#ArialMT-36\"/>\n       <use xlink:href=\"#ArialMT-30\" x=\"55.615234\"/>\n      </g>\n     </g>\n    </g>\n    <g id=\"ytick_5\">\n     <g id=\"line2d_5\">\n      <path d=\"M 50.166094 104.53948 \nL 384.966094 104.53948 \n\" clip-path=\"url(#p44178118e3)\" style=\"fill: none; stroke: #ffffff; stroke-linecap: round\"/>\n     </g>\n     <g id=\"text_8\">\n      <!-- 80 -->\n      <g style=\"fill: #262626\" transform=\"translate(28.432031 108.476276)scale(0.11 -0.11)\">\n       <defs>\n        <path id=\"ArialMT-38\" d=\"M 1131 2484 \nQ 781 2613 612 2850 \nQ 444 3088 444 3419 \nQ 444 3919 803 4259 \nQ 1163 4600 1759 4600 \nQ 2359 4600 2725 4251 \nQ 3091 3903 3091 3403 \nQ 3091 3084 2923 2848 \nQ 2756 2613 2416 2484 \nQ 2838 2347 3058 2040 \nQ 3278 1734 3278 1309 \nQ 3278 722 2862 322 \nQ 2447 -78 1769 -78 \nQ 1091 -78 675 323 \nQ 259 725 259 1325 \nQ 259 1772 486 2073 \nQ 713 2375 1131 2484 \nz\nM 1019 3438 \nQ 1019 3113 1228 2906 \nQ 1438 2700 1772 2700 \nQ 2097 2700 2305 2904 \nQ 2513 3109 2513 3406 \nQ 2513 3716 2298 3927 \nQ 2084 4138 1766 4138 \nQ 1444 4138 1231 3931 \nQ 1019 3725 1019 3438 \nz\nM 838 1322 \nQ 838 1081 952 856 \nQ 1066 631 1291 507 \nQ 1516 384 1775 384 \nQ 2178 384 2440 643 \nQ 2703 903 2703 1303 \nQ 2703 1709 2433 1975 \nQ 2163 2241 1756 2241 \nQ 1359 2241 1098 1978 \nQ 838 1716 838 1322 \nz\n\" transform=\"scale(0.015625)\"/>\n       </defs>\n       <use xlink:href=\"#ArialMT-38\"/>\n       <use xlink:href=\"#ArialMT-30\" x=\"55.615234\"/>\n      </g>\n     </g>\n    </g>\n    <g id=\"ytick_6\">\n     <g id=\"line2d_6\">\n      <path d=\"M 50.166094 70.867006 \nL 384.966094 70.867006 \n\" clip-path=\"url(#p44178118e3)\" style=\"fill: none; stroke: #ffffff; stroke-linecap: round\"/>\n     </g>\n     <g id=\"text_9\">\n      <!-- 100 -->\n      <g style=\"fill: #262626\" transform=\"translate(22.315 74.803803)scale(0.11 -0.11)\">\n       <use xlink:href=\"#ArialMT-31\"/>\n       <use xlink:href=\"#ArialMT-30\" x=\"55.615234\"/>\n       <use xlink:href=\"#ArialMT-30\" x=\"111.230469\"/>\n      </g>\n     </g>\n    </g>\n    <g id=\"ytick_7\">\n     <g id=\"line2d_7\">\n      <path d=\"M 50.166094 37.194532 \nL 384.966094 37.194532 \n\" clip-path=\"url(#p44178118e3)\" style=\"fill: none; stroke: #ffffff; stroke-linecap: round\"/>\n     </g>\n     <g id=\"text_10\">\n      <!-- 120 -->\n      <g style=\"fill: #262626\" transform=\"translate(22.315 41.131329)scale(0.11 -0.11)\">\n       <use xlink:href=\"#ArialMT-31\"/>\n       <use xlink:href=\"#ArialMT-32\" x=\"55.615234\"/>\n       <use xlink:href=\"#ArialMT-30\" x=\"111.230469\"/>\n      </g>\n     </g>\n    </g>\n    <g id=\"text_11\">\n     <!-- Frequency -->\n     <g style=\"fill: #262626\" transform=\"translate(15.789375 158.854688)rotate(-90)scale(0.12 -0.12)\">\n      <defs>\n       <path id=\"ArialMT-46\" d=\"M 525 0 \nL 525 4581 \nL 3616 4581 \nL 3616 4041 \nL 1131 4041 \nL 1131 2622 \nL 3281 2622 \nL 3281 2081 \nL 1131 2081 \nL 1131 0 \nL 525 0 \nz\n\" transform=\"scale(0.015625)\"/>\n       <path id=\"ArialMT-72\" d=\"M 416 0 \nL 416 3319 \nL 922 3319 \nL 922 2816 \nQ 1116 3169 1280 3281 \nQ 1444 3394 1641 3394 \nQ 1925 3394 2219 3213 \nL 2025 2691 \nQ 1819 2813 1613 2813 \nQ 1428 2813 1281 2702 \nQ 1134 2591 1072 2394 \nQ 978 2094 978 1738 \nL 978 0 \nL 416 0 \nz\n\" transform=\"scale(0.015625)\"/>\n       <path id=\"ArialMT-71\" d=\"M 2538 -1272 \nL 2538 353 \nQ 2406 169 2170 47 \nQ 1934 -75 1669 -75 \nQ 1078 -75 651 397 \nQ 225 869 225 1691 \nQ 225 2191 398 2587 \nQ 572 2984 901 3189 \nQ 1231 3394 1625 3394 \nQ 2241 3394 2594 2875 \nL 2594 3319 \nL 3100 3319 \nL 3100 -1272 \nL 2538 -1272 \nz\nM 803 1669 \nQ 803 1028 1072 708 \nQ 1341 388 1716 388 \nQ 2075 388 2334 692 \nQ 2594 997 2594 1619 \nQ 2594 2281 2320 2615 \nQ 2047 2950 1678 2950 \nQ 1313 2950 1058 2639 \nQ 803 2328 803 1669 \nz\n\" transform=\"scale(0.015625)\"/>\n       <path id=\"ArialMT-75\" d=\"M 2597 0 \nL 2597 488 \nQ 2209 -75 1544 -75 \nQ 1250 -75 995 37 \nQ 741 150 617 320 \nQ 494 491 444 738 \nQ 409 903 409 1263 \nL 409 3319 \nL 972 3319 \nL 972 1478 \nQ 972 1038 1006 884 \nQ 1059 663 1231 536 \nQ 1403 409 1656 409 \nQ 1909 409 2131 539 \nQ 2353 669 2445 892 \nQ 2538 1116 2538 1541 \nL 2538 3319 \nL 3100 3319 \nL 3100 0 \nL 2597 0 \nz\n\" transform=\"scale(0.015625)\"/>\n       <path id=\"ArialMT-6e\" d=\"M 422 0 \nL 422 3319 \nL 928 3319 \nL 928 2847 \nQ 1294 3394 1984 3394 \nQ 2284 3394 2536 3286 \nQ 2788 3178 2913 3003 \nQ 3038 2828 3088 2588 \nQ 3119 2431 3119 2041 \nL 3119 0 \nL 2556 0 \nL 2556 2019 \nQ 2556 2363 2490 2533 \nQ 2425 2703 2258 2804 \nQ 2091 2906 1866 2906 \nQ 1506 2906 1245 2678 \nQ 984 2450 984 1813 \nL 984 0 \nL 422 0 \nz\n\" transform=\"scale(0.015625)\"/>\n       <path id=\"ArialMT-63\" d=\"M 2588 1216 \nL 3141 1144 \nQ 3050 572 2676 248 \nQ 2303 -75 1759 -75 \nQ 1078 -75 664 370 \nQ 250 816 250 1647 \nQ 250 2184 428 2587 \nQ 606 2991 970 3192 \nQ 1334 3394 1763 3394 \nQ 2303 3394 2647 3120 \nQ 2991 2847 3088 2344 \nL 2541 2259 \nQ 2463 2594 2264 2762 \nQ 2066 2931 1784 2931 \nQ 1359 2931 1093 2626 \nQ 828 2322 828 1663 \nQ 828 994 1084 691 \nQ 1341 388 1753 388 \nQ 2084 388 2306 591 \nQ 2528 794 2588 1216 \nz\n\" transform=\"scale(0.015625)\"/>\n       <path id=\"ArialMT-79\" d=\"M 397 -1278 \nL 334 -750 \nQ 519 -800 656 -800 \nQ 844 -800 956 -737 \nQ 1069 -675 1141 -563 \nQ 1194 -478 1313 -144 \nQ 1328 -97 1363 -6 \nL 103 3319 \nL 709 3319 \nL 1400 1397 \nQ 1534 1031 1641 628 \nQ 1738 1016 1872 1384 \nL 2581 3319 \nL 3144 3319 \nL 1881 -56 \nQ 1678 -603 1566 -809 \nQ 1416 -1088 1222 -1217 \nQ 1028 -1347 759 -1347 \nQ 597 -1347 397 -1278 \nz\n\" transform=\"scale(0.015625)\"/>\n      </defs>\n      <use xlink:href=\"#ArialMT-46\"/>\n      <use xlink:href=\"#ArialMT-72\" x=\"61.083984\"/>\n      <use xlink:href=\"#ArialMT-65\" x=\"94.384766\"/>\n      <use xlink:href=\"#ArialMT-71\" x=\"150\"/>\n      <use xlink:href=\"#ArialMT-75\" x=\"205.615234\"/>\n      <use xlink:href=\"#ArialMT-65\" x=\"261.230469\"/>\n      <use xlink:href=\"#ArialMT-6e\" x=\"316.845703\"/>\n      <use xlink:href=\"#ArialMT-63\" x=\"372.460938\"/>\n      <use xlink:href=\"#ArialMT-79\" x=\"422.460938\"/>\n     </g>\n    </g>\n   </g>\n   <g id=\"patch_3\">\n    <path d=\"M 66.906094 239.229375 \nL 200.826094 239.229375 \nL 200.826094 185.353417 \nL 66.906094 185.353417 \nz\n\" clip-path=\"url(#p44178118e3)\" style=\"fill: #5875a4; stroke: #ffffff; stroke-linejoin: miter\"/>\n   </g>\n   <g id=\"patch_4\">\n    <path d=\"M 234.306094 239.229375 \nL 368.226094 239.229375 \nL 368.226094 32.143661 \nL 234.306094 32.143661 \nz\n\" clip-path=\"url(#p44178118e3)\" style=\"fill: #cc8963; stroke: #ffffff; stroke-linejoin: miter\"/>\n   </g>\n   <g id=\"line2d_8\">\n    <path clip-path=\"url(#p44178118e3)\" style=\"fill: none; stroke: #424242; stroke-width: 2.7; stroke-linecap: round\"/>\n   </g>\n   <g id=\"line2d_9\">\n    <path clip-path=\"url(#p44178118e3)\" style=\"fill: none; stroke: #424242; stroke-width: 2.7; stroke-linecap: round\"/>\n   </g>\n   <g id=\"patch_5\">\n    <path d=\"M 50.166094 239.229375 \nL 50.166094 21.789375 \n\" style=\"fill: none; stroke: #ffffff; stroke-width: 1.25; stroke-linejoin: miter; stroke-linecap: square\"/>\n   </g>\n   <g id=\"patch_6\">\n    <path d=\"M 384.966094 239.229375 \nL 384.966094 21.789375 \n\" style=\"fill: none; stroke: #ffffff; stroke-width: 1.25; stroke-linejoin: miter; stroke-linecap: square\"/>\n   </g>\n   <g id=\"patch_7\">\n    <path d=\"M 50.166094 239.229375 \nL 384.966094 239.229375 \n\" style=\"fill: none; stroke: #ffffff; stroke-width: 1.25; stroke-linejoin: miter; stroke-linecap: square\"/>\n   </g>\n   <g id=\"patch_8\">\n    <path d=\"M 50.166094 21.789375 \nL 384.966094 21.789375 \n\" style=\"fill: none; stroke: #ffffff; stroke-width: 1.25; stroke-linejoin: miter; stroke-linecap: square\"/>\n   </g>\n   <g id=\"text_12\">\n    <!-- Class distribution -->\n    <g style=\"fill: #262626\" transform=\"translate(171.882656 15.789375)scale(0.12 -0.12)\">\n     <defs>\n      <path id=\"ArialMT-20\" transform=\"scale(0.015625)\"/>\n      <path id=\"ArialMT-64\" d=\"M 2575 0 \nL 2575 419 \nQ 2259 -75 1647 -75 \nQ 1250 -75 917 144 \nQ 584 363 401 755 \nQ 219 1147 219 1656 \nQ 219 2153 384 2558 \nQ 550 2963 881 3178 \nQ 1213 3394 1622 3394 \nQ 1922 3394 2156 3267 \nQ 2391 3141 2538 2938 \nL 2538 4581 \nL 3097 4581 \nL 3097 0 \nL 2575 0 \nz\nM 797 1656 \nQ 797 1019 1065 703 \nQ 1334 388 1700 388 \nQ 2069 388 2326 689 \nQ 2584 991 2584 1609 \nQ 2584 2291 2321 2609 \nQ 2059 2928 1675 2928 \nQ 1300 2928 1048 2622 \nQ 797 2316 797 1656 \nz\n\" transform=\"scale(0.015625)\"/>\n      <path id=\"ArialMT-69\" d=\"M 425 3934 \nL 425 4581 \nL 988 4581 \nL 988 3934 \nL 425 3934 \nz\nM 425 0 \nL 425 3319 \nL 988 3319 \nL 988 0 \nL 425 0 \nz\n\" transform=\"scale(0.015625)\"/>\n      <path id=\"ArialMT-74\" d=\"M 1650 503 \nL 1731 6 \nQ 1494 -44 1306 -44 \nQ 1000 -44 831 53 \nQ 663 150 594 308 \nQ 525 466 525 972 \nL 525 2881 \nL 113 2881 \nL 113 3319 \nL 525 3319 \nL 525 4141 \nL 1084 4478 \nL 1084 3319 \nL 1650 3319 \nL 1650 2881 \nL 1084 2881 \nL 1084 941 \nQ 1084 700 1114 631 \nQ 1144 563 1211 522 \nQ 1278 481 1403 481 \nQ 1497 481 1650 503 \nz\n\" transform=\"scale(0.015625)\"/>\n      <path id=\"ArialMT-62\" d=\"M 941 0 \nL 419 0 \nL 419 4581 \nL 981 4581 \nL 981 2947 \nQ 1338 3394 1891 3394 \nQ 2197 3394 2470 3270 \nQ 2744 3147 2920 2923 \nQ 3097 2700 3197 2384 \nQ 3297 2069 3297 1709 \nQ 3297 856 2875 390 \nQ 2453 -75 1863 -75 \nQ 1275 -75 941 416 \nL 941 0 \nz\nM 934 1684 \nQ 934 1088 1097 822 \nQ 1363 388 1816 388 \nQ 2184 388 2453 708 \nQ 2722 1028 2722 1663 \nQ 2722 2313 2464 2622 \nQ 2206 2931 1841 2931 \nQ 1472 2931 1203 2611 \nQ 934 2291 934 1684 \nz\n\" transform=\"scale(0.015625)\"/>\n      <path id=\"ArialMT-6f\" d=\"M 213 1659 \nQ 213 2581 725 3025 \nQ 1153 3394 1769 3394 \nQ 2453 3394 2887 2945 \nQ 3322 2497 3322 1706 \nQ 3322 1066 3130 698 \nQ 2938 331 2570 128 \nQ 2203 -75 1769 -75 \nQ 1072 -75 642 372 \nQ 213 819 213 1659 \nz\nM 791 1659 \nQ 791 1022 1069 705 \nQ 1347 388 1769 388 \nQ 2188 388 2466 706 \nQ 2744 1025 2744 1678 \nQ 2744 2294 2464 2611 \nQ 2184 2928 1769 2928 \nQ 1347 2928 1069 2612 \nQ 791 2297 791 1659 \nz\n\" transform=\"scale(0.015625)\"/>\n     </defs>\n     <use xlink:href=\"#ArialMT-43\"/>\n     <use xlink:href=\"#ArialMT-6c\" x=\"72.216797\"/>\n     <use xlink:href=\"#ArialMT-61\" x=\"94.433594\"/>\n     <use xlink:href=\"#ArialMT-73\" x=\"150.048828\"/>\n     <use xlink:href=\"#ArialMT-73\" x=\"200.048828\"/>\n     <use xlink:href=\"#ArialMT-20\" x=\"250.048828\"/>\n     <use xlink:href=\"#ArialMT-64\" x=\"277.832031\"/>\n     <use xlink:href=\"#ArialMT-69\" x=\"333.447266\"/>\n     <use xlink:href=\"#ArialMT-73\" x=\"355.664062\"/>\n     <use xlink:href=\"#ArialMT-74\" x=\"405.664062\"/>\n     <use xlink:href=\"#ArialMT-72\" x=\"433.447266\"/>\n     <use xlink:href=\"#ArialMT-69\" x=\"466.748047\"/>\n     <use xlink:href=\"#ArialMT-62\" x=\"488.964844\"/>\n     <use xlink:href=\"#ArialMT-75\" x=\"544.580078\"/>\n     <use xlink:href=\"#ArialMT-74\" x=\"600.195312\"/>\n     <use xlink:href=\"#ArialMT-69\" x=\"627.978516\"/>\n     <use xlink:href=\"#ArialMT-6f\" x=\"650.195312\"/>\n     <use xlink:href=\"#ArialMT-6e\" x=\"705.810547\"/>\n    </g>\n   </g>\n  </g>\n </g>\n <defs>\n  <clipPath id=\"p44178118e3\">\n   <rect x=\"50.166094\" y=\"21.789375\" width=\"334.8\" height=\"217.44\"/>\n  </clipPath>\n </defs>\n</svg>\n",
      "image/png": "[encoded data removed]"
     },
     "metadata": {}
    }
   ],
   "source": [
    "sns.set(style=\"darkgrid\")\n",
    "sns.barplot(x=\"Class\", y=\"cnt\", data = {\"Class\": [1, 2], \"cnt\": [len(df[df['Class'] == 1]), len(df[df['Class'] == 2])]})\n",
    "plt.title(\"Class distribution\")\n",
    "plt.xlabel(\"Classes\")\n",
    "plt.ylabel(\"Frequency\")\n",
    "plt.show()"
   ]
  },
  {
   "cell_type": "code",
   "execution_count": 7,
   "metadata": {},
   "outputs": [
    {
     "output_type": "stream",
     "name": "stdout",
     "text": [
      "<class 'pandas.core.frame.DataFrame'>\nRangeIndex: 155 entries, 0 to 154\nData columns (total 20 columns):\n #   Column           Non-Null Count  Dtype \n---  ------           --------------  ----- \n 0   Class            155 non-null    int64 \n 1   AGE              155 non-null    int64 \n 2   SEX              155 non-null    int64 \n 3   STEROID          154 non-null    object\n 4   ANTIVIRALS       155 non-null    int64 \n 5   FATIGUE          154 non-null    object\n 6   MALAISE          154 non-null    object\n 7   ANOREXIA         154 non-null    object\n 8   LIVER BIG        145 non-null    object\n 9   LIVER FIRM       144 non-null    object\n 10  SPLEEN PALPABLE  150 non-null    object\n 11  SPIDERS          150 non-null    object\n 12  ASCITES          150 non-null    object\n 13  VARICES          150 non-null    object\n 14  BILIRUBIN        149 non-null    object\n 15  ALK PHOSPHATE    126 non-null    object\n 16  SGOT             151 non-null    object\n 17  ALBUMIN          139 non-null    object\n 18  PROTIME          88 non-null     object\n 19  HISTOLOGY        155 non-null    int64 \ndtypes: int64(5), object(15)\nmemory usage: 24.3+ KB\n"
     ]
    }
   ],
   "source": [
    "df.info()"
   ]
  },
  {
   "cell_type": "code",
   "execution_count": 7,
   "metadata": {},
   "outputs": [
    {
     "output_type": "execute_result",
     "data": {
      "text/plain": [
       "Class               0\n",
       "AGE                 0\n",
       "SEX                 0\n",
       "STEROID             1\n",
       "ANTIVIRALS          0\n",
       "FATIGUE             1\n",
       "MALAISE             1\n",
       "ANOREXIA            1\n",
       "LIVER BIG          10\n",
       "LIVER FIRM         11\n",
       "SPLEEN PALPABLE     5\n",
       "SPIDERS             5\n",
       "ASCITES             5\n",
       "VARICES             5\n",
       "BILIRUBIN           0\n",
       "ALK PHOSPHATE       0\n",
       "SGOT                0\n",
       "ALBUMIN             0\n",
       "PROTIME             0\n",
       "HISTOLOGY           0\n",
       "dtype: int64"
      ]
     },
     "metadata": {},
     "execution_count": 7
    }
   ],
   "source": [
    "#Handling of Missing data\n",
    "#Numerical variables\n",
    "#Convert the type of numerical variables\n",
    "numerical_variables = ['AGE', 'BILIRUBIN', 'PROTIME', 'ALBUMIN', 'ALK PHOSPHATE', 'SGOT']\n",
    "df[\"BILIRUBIN\"] = df.BILIRUBIN.astype(float)\n",
    "df[\"PROTIME\"] = df.PROTIME.astype(float)\n",
    "df[\"ALK PHOSPHATE\"] = df[\"ALK PHOSPHATE\"].astype(float)\n",
    "df[\"SGOT\"] = df.SGOT.astype(float)\n",
    "df[\"ALBUMIN\"] = df.ALBUMIN.astype(float)\n",
    "#Fill empty spaces by using mean value\n",
    "for i in numerical_variables:\n",
    "    df[i] = df[i].fillna(df[i].mean())\n",
    "\n",
    "df.isnull().sum()"
   ]
  },
  {
   "cell_type": "code",
   "execution_count": 8,
   "metadata": {},
   "outputs": [
    {
     "output_type": "execute_result",
     "data": {
      "text/plain": [
       "Class              0\n",
       "AGE                0\n",
       "SEX                0\n",
       "STEROID            0\n",
       "ANTIVIRALS         0\n",
       "FATIGUE            0\n",
       "MALAISE            0\n",
       "ANOREXIA           0\n",
       "LIVER BIG          0\n",
       "LIVER FIRM         0\n",
       "SPLEEN PALPABLE    0\n",
       "SPIDERS            0\n",
       "ASCITES            0\n",
       "VARICES            0\n",
       "BILIRUBIN          0\n",
       "ALK PHOSPHATE      0\n",
       "SGOT               0\n",
       "ALBUMIN            0\n",
       "PROTIME            0\n",
       "HISTOLOGY          0\n",
       "dtype: int64"
      ]
     },
     "metadata": {},
     "execution_count": 8
    }
   ],
   "source": [
    "#Categorical variables\n",
    "categorical_variables = ['SEX' , 'STEROID', 'ANTIVIRALS', 'FATIGUE','MALAISE','ANOREXIA','LIVER BIG','LIVER FIRM','SPLEEN PALPABLE', 'SPIDERS','ASCITES','VARICES', 'HISTOLOGY']\n",
    "#Fill in the missing data using most frequent data of each category\n",
    "for i in categorical_variables:\n",
    "    df[i] = df[i].fillna(int(df[i].mode()))\n",
    "\n",
    "df.isnull().sum()"
   ]
  },
  {
   "cell_type": "code",
   "execution_count": 9,
   "metadata": {},
   "outputs": [
    {
     "output_type": "execute_result",
     "data": {
      "text/plain": [
       "   Class  AGE  SEX STEROID  ANTIVIRALS FATIGUE MALAISE ANOREXIA LIVER BIG  \\\n",
       "0      2   30    2       1           2       2       2        2         1   \n",
       "1      2   50    1       1           2       1       2        2         1   \n",
       "2      2   78    1       2           2       1       2        2         2   \n",
       "3      2   31    1       2           1       2       2        2         2   \n",
       "4      2   34    1       2           2       2       2        2         2   \n",
       "\n",
       "  LIVER FIRM SPLEEN PALPABLE SPIDERS ASCITES VARICES  BILIRUBIN  \\\n",
       "0          2               2       2       2       2        1.0   \n",
       "1          2               2       2       2       2        0.9   \n",
       "2          2               2       2       2       2        0.7   \n",
       "3          2               2       2       2       2        0.7   \n",
       "4          2               2       2       2       2        1.0   \n",
       "\n",
       "   ALK PHOSPHATE   SGOT  ALBUMIN    PROTIME  HISTOLOGY  \n",
       "0      85.000000   18.0      4.0  61.852273          1  \n",
       "1     135.000000   42.0      3.5  61.852273          1  \n",
       "2      96.000000   32.0      4.0  61.852273          1  \n",
       "3      46.000000   52.0      4.0  80.000000          1  \n",
       "4     105.325397  200.0      4.0  61.852273          1  "
      ],
      "text/html": "<div>\n<style scoped>\n    .dataframe tbody tr th:only-of-type {\n        vertical-align: middle;\n    }\n\n    .dataframe tbody tr th {\n        vertical-align: top;\n    }\n\n    .dataframe thead th {\n        text-align: right;\n    }\n</style>\n<table border=\"1\" class=\"dataframe\">\n  <thead>\n    <tr style=\"text-align: right;\">\n      <th></th>\n      <th>Class</th>\n      <th>AGE</th>\n      <th>SEX</th>\n      <th>STEROID</th>\n      <th>ANTIVIRALS</th>\n      <th>FATIGUE</th>\n      <th>MALAISE</th>\n      <th>ANOREXIA</th>\n      <th>LIVER BIG</th>\n      <th>LIVER FIRM</th>\n      <th>SPLEEN PALPABLE</th>\n      <th>SPIDERS</th>\n      <th>ASCITES</th>\n      <th>VARICES</th>\n      <th>BILIRUBIN</th>\n      <th>ALK PHOSPHATE</th>\n      <th>SGOT</th>\n      <th>ALBUMIN</th>\n      <th>PROTIME</th>\n      <th>HISTOLOGY</th>\n    </tr>\n  </thead>\n  <tbody>\n    <tr>\n      <th>0</th>\n      <td>2</td>\n      <td>30</td>\n      <td>2</td>\n      <td>1</td>\n      <td>2</td>\n      <td>2</td>\n      <td>2</td>\n      <td>2</td>\n      <td>1</td>\n      <td>2</td>\n      <td>2</td>\n      <td>2</td>\n      <td>2</td>\n      <td>2</td>\n      <td>1.0</td>\n      <td>85.000000</td>\n      <td>18.0</td>\n      <td>4.0</td>\n      <td>61.852273</td>\n      <td>1</td>\n    </tr>\n    <tr>\n      <th>1</th>\n      <td>2</td>\n      <td>50</td>\n      <td>1</td>\n      <td>1</td>\n      <td>2</td>\n      <td>1</td>\n      <td>2</td>\n      <td>2</td>\n      <td>1</td>\n      <td>2</td>\n      <td>2</td>\n      <td>2</td>\n      <td>2</td>\n      <td>2</td>\n      <td>0.9</td>\n      <td>135.000000</td>\n      <td>42.0</td>\n      <td>3.5</td>\n      <td>61.852273</td>\n      <td>1</td>\n    </tr>\n    <tr>\n      <th>2</th>\n      <td>2</td>\n      <td>78</td>\n      <td>1</td>\n      <td>2</td>\n      <td>2</td>\n      <td>1</td>\n      <td>2</td>\n      <td>2</td>\n      <td>2</td>\n      <td>2</td>\n      <td>2</td>\n      <td>2</td>\n      <td>2</td>\n      <td>2</td>\n      <td>0.7</td>\n      <td>96.000000</td>\n      <td>32.0</td>\n      <td>4.0</td>\n      <td>61.852273</td>\n      <td>1</td>\n    </tr>\n    <tr>\n      <th>3</th>\n      <td>2</td>\n      <td>31</td>\n      <td>1</td>\n      <td>2</td>\n      <td>1</td>\n      <td>2</td>\n      <td>2</td>\n      <td>2</td>\n      <td>2</td>\n      <td>2</td>\n      <td>2</td>\n      <td>2</td>\n      <td>2</td>\n      <td>2</td>\n      <td>0.7</td>\n      <td>46.000000</td>\n      <td>52.0</td>\n      <td>4.0</td>\n      <td>80.000000</td>\n      <td>1</td>\n    </tr>\n    <tr>\n      <th>4</th>\n      <td>2</td>\n      <td>34</td>\n      <td>1</td>\n      <td>2</td>\n      <td>2</td>\n      <td>2</td>\n      <td>2</td>\n      <td>2</td>\n      <td>2</td>\n      <td>2</td>\n      <td>2</td>\n      <td>2</td>\n      <td>2</td>\n      <td>2</td>\n      <td>1.0</td>\n      <td>105.325397</td>\n      <td>200.0</td>\n      <td>4.0</td>\n      <td>61.852273</td>\n      <td>1</td>\n    </tr>\n  </tbody>\n</table>\n</div>"
     },
     "metadata": {},
     "execution_count": 9
    }
   ],
   "source": [
    "df.head()"
   ]
  },
  {
   "cell_type": "code",
   "execution_count": 10,
   "metadata": {},
   "outputs": [
    {
     "output_type": "stream",
     "name": "stdout",
     "text": [
      "<class 'pandas.core.frame.DataFrame'>\nRangeIndex: 155 entries, 0 to 154\nData columns (total 20 columns):\n #   Column           Non-Null Count  Dtype  \n---  ------           --------------  -----  \n 0   Class            155 non-null    int64  \n 1   AGE              155 non-null    int64  \n 2   SEX              155 non-null    int64  \n 3   STEROID          155 non-null    object \n 4   ANTIVIRALS       155 non-null    int64  \n 5   FATIGUE          155 non-null    object \n 6   MALAISE          155 non-null    object \n 7   ANOREXIA         155 non-null    object \n 8   LIVER BIG        155 non-null    object \n 9   LIVER FIRM       155 non-null    object \n 10  SPLEEN PALPABLE  155 non-null    object \n 11  SPIDERS          155 non-null    object \n 12  ASCITES          155 non-null    object \n 13  VARICES          155 non-null    object \n 14  BILIRUBIN        155 non-null    float64\n 15  ALK PHOSPHATE    155 non-null    float64\n 16  SGOT             155 non-null    float64\n 17  ALBUMIN          155 non-null    float64\n 18  PROTIME          155 non-null    float64\n 19  HISTOLOGY        155 non-null    int64  \ndtypes: float64(5), int64(5), object(10)\nmemory usage: 24.3+ KB\n"
     ]
    }
   ],
   "source": [
    "df.info()"
   ]
  },
  {
   "cell_type": "code",
   "execution_count": 78,
   "metadata": {},
   "outputs": [],
   "source": [
    "df.to_csv('../data/hepatitis.csv')"
   ]
  },
  {
   "cell_type": "code",
   "execution_count": 75,
   "metadata": {},
   "outputs": [],
   "source": [
    "from sklearn.preprocessing import StandardScaler\n",
    "\n",
    "#Standardizing the scale\n",
    "sc=StandardScaler()\n",
    "sc.fit(df.drop([\"Class\",\"PROTIME\",\"BILIRUBIN\"], axis = 1))\n",
    "scaled_features = sc.transform(df.drop([\"Class\",\"PROTIME\",\"BILIRUBIN\"], axis = 1))\n",
    "X = scaled_features\n",
    "y = df[\"Class\"]"
   ]
  },
  {
   "cell_type": "code",
   "execution_count": null,
   "metadata": {},
   "outputs": [],
   "source": [
    "# Split dataset in training and test datasets \n",
    "X_train, X_test, y_train, y_test = train_test_split(X,y,test_size=0.4,random_state=3)\n",
    "#Split and generate imbalance test/train set\n",
    "class_nobalance = pd.Series(y_train).value_counts().plot.bar()\n",
    "class_nobalance.set_title(\"Outcome ytrain (Without SMOTE)\")\n",
    "#Split and generate balance test/train set using SMOTE\n",
    "from imblearn.over_sampling import SMOTE\n",
    "sm = SMOTE(random_state = 33)\n",
    "X_train_new, y_train_new = sm.fit_sample(X_train, y_train.ravel())\n",
    "class_balance = pd.Series(y_train_new).value_counts().plot.bar()\n",
    "class_balance.set_title(\"Outcome ytrain (SMOTE)\")"
   ]
  }
 ]
}